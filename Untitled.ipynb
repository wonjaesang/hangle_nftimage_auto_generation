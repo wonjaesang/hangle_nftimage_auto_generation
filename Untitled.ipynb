{
 "cells": [
  {
   "cell_type": "code",
   "execution_count": 72,
   "id": "e9d78bb3",
   "metadata": {},
   "outputs": [],
   "source": [
    "from pptx import Presentation\n",
    "from pptx.util import Inches, Pt\n",
    "from pptx.enum.text import PP_ALIGN\n",
    "\n",
    "\n",
    "prs = Presentation()\n",
    "prs.slide_width = Inches(11.811)\n",
    "prs.slide_height = Inches(11.811)\n",
    "blank_slide_layout = prs.slide_layouts[6]\n",
    "left = top = Inches(0)\n",
    "width = height = Inches(11.811)\n",
    "\n",
    "slide = prs.slides.add_slide(blank_slide_layout)\n",
    "txBox = slide.shapes.add_textbox(left, top, width, height)\n",
    "tf = txBox.text_frame\n",
    "p = tf.add_paragraph()\n",
    "p.text = \"\\uAC00\"\n",
    "p.font.name = '맑은 고딕 (본문)'\n",
    "p.font.size = Pt(800)\n",
    "\n",
    "\n",
    "prs.save('test.pptx')\n",
    "\n"
   ]
  },
  {
   "cell_type": "code",
   "execution_count": 136,
   "id": "e977ce13",
   "metadata": {},
   "outputs": [],
   "source": [
    "from pptx import Presentation\n",
    "from pptx.util import Inches, Pt\n",
    "from pptx.enum.text import PP_ALIGN\n",
    "import binascii\n",
    "\n",
    "\n",
    "prs = Presentation()\n",
    "prs.slide_width = Inches(11.811)\n",
    "prs.slide_height = Inches(11.811)\n",
    "blank_slide_layout = prs.slide_layouts[6]\n",
    "left = top = Inches(0)\n",
    "width = height = Inches(11.811)\n",
    "\n",
    "slide = [\"slide\" + str(num1)  for num1 in range(1,4)] \n",
    "\n",
    "def add_slide(slide_n, a):\n",
    "    slide_n = prs.slides.add_slide(blank_slide_layout)\n",
    "    txBox = slide_n.shapes.add_textbox(left, top, width, height)\n",
    "    tf = txBox.text_frame\n",
    "    p = tf.add_paragraph()\n",
    "    p.text = chr(44031 + a)\n",
    "    p.font.name = 'SB 어그로 Medium'\n",
    "    p.font.size = Pt(800)\n",
    "\n",
    "for i in range(1, 3):\n",
    "    add_slide(slide[i], i)\n",
    "    \n",
    "\n",
    "prs.save('test.pptx')"
   ]
  },
  {
   "cell_type": "code",
   "execution_count": 89,
   "id": "4e167880",
   "metadata": {},
   "outputs": [],
   "source": [
    "num = 44032"
   ]
  },
  {
   "cell_type": "code",
   "execution_count": 92,
   "id": "8427f652",
   "metadata": {},
   "outputs": [
    {
     "ename": "SyntaxError",
     "evalue": "(unicode error) 'unicodeescape' codec can't decode bytes in position 0-1: truncated \\uXXXX escape (Temp/ipykernel_6664/1851418810.py, line 1)",
     "output_type": "error",
     "traceback": [
      "\u001b[1;36m  File \u001b[1;32m\"C:\\Users\\wonjs\\AppData\\Local\\Temp/ipykernel_6664/1851418810.py\"\u001b[1;36m, line \u001b[1;32m1\u001b[0m\n\u001b[1;33m    text = \"\\u\" + str(hex(num))[2] + str(hex(num))[3] + str(hex(num))[4] + str(hex(num))[5]\u001b[0m\n\u001b[1;37m                ^\u001b[0m\n\u001b[1;31mSyntaxError\u001b[0m\u001b[1;31m:\u001b[0m (unicode error) 'unicodeescape' codec can't decode bytes in position 0-1: truncated \\uXXXX escape\n"
     ]
    }
   ],
   "source": [
    "text = \"\\u\" + str(hex(num))[2] + str(hex(num))[3] + str(hex(num))[4] + str(hex(num))[5]"
   ]
  },
  {
   "cell_type": "code",
   "execution_count": 116,
   "id": "821d8818",
   "metadata": {},
   "outputs": [],
   "source": [
    "text = ['\\uac00' + str(hex(num))[2] + str(hex(num))[3] + str(hex(num))[4] + str(hex(num))[5] for num in range(44032, 44035)]"
   ]
  },
  {
   "cell_type": "code",
   "execution_count": 117,
   "id": "461612a7",
   "metadata": {},
   "outputs": [
    {
     "name": "stdout",
     "output_type": "stream",
     "text": [
      "['가ac00', '가ac01', '가ac02']\n"
     ]
    }
   ],
   "source": [
    "print(text)"
   ]
  },
  {
   "cell_type": "code",
   "execution_count": 119,
   "id": "2958541d",
   "metadata": {},
   "outputs": [],
   "source": [
    "s = '\\uac00'"
   ]
  },
  {
   "cell_type": "code",
   "execution_count": 128,
   "id": "16030ece",
   "metadata": {},
   "outputs": [
    {
     "data": {
      "text/plain": [
       "'가'"
      ]
     },
     "execution_count": 128,
     "metadata": {},
     "output_type": "execute_result"
    }
   ],
   "source": [
    "chr(44032)"
   ]
  },
  {
   "cell_type": "code",
   "execution_count": null,
   "id": "5ea6db5d",
   "metadata": {},
   "outputs": [],
   "source": []
  }
 ],
 "metadata": {
  "kernelspec": {
   "display_name": "Python 3 (ipykernel)",
   "language": "python",
   "name": "python3"
  },
  "language_info": {
   "codemirror_mode": {
    "name": "ipython",
    "version": 3
   },
   "file_extension": ".py",
   "mimetype": "text/x-python",
   "name": "python",
   "nbconvert_exporter": "python",
   "pygments_lexer": "ipython3",
   "version": "3.9.7"
  }
 },
 "nbformat": 4,
 "nbformat_minor": 5
}
